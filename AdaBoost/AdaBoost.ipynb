{
 "cells": [
  {
   "cell_type": "code",
   "execution_count": 23,
   "metadata": {
    "collapsed": true
   },
   "outputs": [
    {
     "name": "stdout",
     "output_type": "stream",
     "text": [
      "The autoreload extension is already loaded. To reload it, use:\n  %reload_ext autoreload\n"
     ]
    }
   ],
   "source": [
    "from IPython.extensions import autoreload\n",
    "%load_ext autoreload\n",
    "%autoreload 2\n",
    "\n",
    "%matplotlib inline"
   ]
  },
  {
   "cell_type": "code",
   "execution_count": 3,
   "metadata": {},
   "outputs": [],
   "source": [
    "from sklearn.ensemble import AdaBoostRegressor"
   ]
  },
  {
   "cell_type": "code",
   "execution_count": 4,
   "metadata": {},
   "outputs": [],
   "source": [
    "from sklearn.model_selection import train_test_split\n",
    "from sklearn.metrics import mean_squared_error\n",
    "from sklearn.datasets import load_boston"
   ]
  },
  {
   "cell_type": "code",
   "execution_count": 5,
   "metadata": {},
   "outputs": [],
   "source": [
    "data = load_boston()\n",
    "train_x,test_x,train_y,test_y = train_test_split(data.data,data.target,test_size=0.25,random_state=33)"
   ]
  },
  {
   "cell_type": "code",
   "execution_count": 10,
   "metadata": {},
   "outputs": [
    {
     "data": {
      "text/plain": [
       "AdaBoostRegressor(base_estimator=None, learning_rate=1.0, loss='linear',\n         n_estimators=50, random_state=None)"
      ]
     },
     "execution_count": 10,
     "metadata": {},
     "output_type": "execute_result"
    }
   ],
   "source": [
    "regressor = AdaBoostRegressor()\n",
    "regressor.fit(train_x,train_y)"
   ]
  },
  {
   "cell_type": "code",
   "execution_count": 11,
   "metadata": {},
   "outputs": [],
   "source": [
    "pred_y = regressor.predict(test_x)"
   ]
  },
  {
   "cell_type": "code",
   "execution_count": 13,
   "metadata": {
    "collapsed": false
   },
   "outputs": [
    {
     "name": "stdout",
     "output_type": "stream",
     "text": [
      " 房价预测结果  [19.60526316 10.0238806  13.46769231 16.85789474 24.21987952 22.33846154\n 28.19831461 17.84366197 28.89677419 19.98571429 27.91284916 33.50607735\n 10.60555556 25.19363636 13.31818182 25.85869565 17.05384615 16.61209677\n 27.91284916 26.03448276 16.85789474 17.05384615 17.68108108 19.60526316\n 32.38089172 17.87272727 22.33846154 25.85869565 10.60555556 28.89677419\n 17.05384615 26.03448276 10.60555556 21.59302326 26.52179487 30.1483871\n 26.12177778 11.01111111 14.38       25.85869565 15.14545455 11.27916667\n 27.91284916 16.85789474 27.29383886 19.44170404 16.59095745 19.64\n 26.12177778 20.66521739 16.684      32.78769231 15.8216     16.85789474\n 25.60662651 20.92992126 25.85869565 16.59095745 25.90708333 23.13114754\n 18.99805825 16.22708333 42.68181818 21.96428571 16.85789474 26.52179487\n 26.03448276 11.27916667 18.34461538 28.04778761 23.13114754 18.77042254\n 17.05384615 27.77142857 19.82857143 44.95714286 15.68666667 11.11851852\n 16.22708333 24.69871795 20.89444444 13.46769231 11.98518519 25.60662651\n 20.92992126 22.33846154 48.15       16.51538462 42.59285714 32.94320388\n 27.91284916 19.82857143 17.94666667 16.61209677 15.68666667 32.78769231\n 24.14044118 24.60629921 18.34461538 17.68108108 13.46769231 20.54177215\n 27.34215686 25.85869565 11.01111111 15.71190476 11.27916667 27.34215686\n 11.27916667 26.03448276 47.51369863 12.76333333 16.59095745 26.03448276\n 30.1483871  24.60852273 22.9703252  21.86341463 27.7199005  20.92992126\n 20.66521739 17.05384615 11.69772727 21.59302326 22.33846154 16.22708333\n 42.51052632]\n 均方误差 =  17.51\n"
     ]
    }
   ],
   "source": [
    "mse = mean_squared_error(test_y,pred_y)\n",
    "print(\" 房价预测结果 \",pred_y)\n",
    "print(\" 均方误差 = \",round(mse,2))"
   ]
  },
  {
   "cell_type": "code",
   "execution_count": 14,
   "metadata": {},
   "outputs": [],
   "source": [
    "import numpy as np\n",
    "import matplotlib.pyplot as plt\n",
    "from sklearn import datasets\n",
    "from sklearn.metrics import zero_one_loss\n",
    "from sklearn.tree import DecisionTreeClassifier\n",
    "from sklearn.ensemble import AdaBoostClassifier"
   ]
  },
  {
   "cell_type": "code",
   "execution_count": 15,
   "metadata": {},
   "outputs": [],
   "source": [
    "n_estimators = 200\n",
    "X,y=datasets.make_hastie_10_2(n_samples=12000,random_state=1)\n",
    "test_x,test_y = X[2000:],y[2000:]\n",
    "train_x,train_y = X[:2000],y[:2000]"
   ]
  },
  {
   "cell_type": "code",
   "execution_count": 16,
   "metadata": {},
   "outputs": [],
   "source": [
    "dt_stump = DecisionTreeClassifier(max_depth=1,min_samples_leaf=1)\n",
    "dt_stump.fit(train_x,train_y)\n",
    "dt_stump_err=1.0-dt_stump.score(test_x,test_y)"
   ]
  },
  {
   "cell_type": "code",
   "execution_count": 17,
   "metadata": {},
   "outputs": [],
   "source": [
    "dt = DecisionTreeClassifier()\n",
    "dt.fit(train_x,train_y)\n",
    "dt_err = 1.0-dt.score(test_x,test_y)"
   ]
  },
  {
   "cell_type": "code",
   "execution_count": 18,
   "metadata": {},
   "outputs": [
    {
     "data": {
      "text/plain": [
       "AdaBoostClassifier(algorithm='SAMME.R',\n          base_estimator=DecisionTreeClassifier(class_weight=None, criterion='gini', max_depth=1,\n            max_features=None, max_leaf_nodes=None,\n            min_impurity_decrease=0.0, min_impurity_split=None,\n            min_samples_leaf=1, min_samples_split=2,\n            min_weight_fraction_leaf=0.0, presort=False, random_state=None,\n            splitter='best'),\n          learning_rate=1.0, n_estimators=200, random_state=None)"
      ]
     },
     "execution_count": 18,
     "metadata": {},
     "output_type": "execute_result"
    }
   ],
   "source": [
    "ada = AdaBoostClassifier(base_estimator=dt_stump,n_estimators=n_estimators)\n",
    "ada.fit(train_x,train_y)"
   ]
  },
  {
   "cell_type": "code",
   "execution_count": 22,
   "metadata": {},
   "outputs": [
    {
     "data": {
      "image/png": "[encoded data removed]",
      "text/plain": [
       "<Figure size 432x288 with 1 Axes>"
      ]
     },
     "metadata": {},
     "output_type": "display_data"
    }
   ],
   "source": [
    "fig = plt.figure()\n",
    "plt.rcParams['font.sans-serif']=['SimHei']\n",
    "ax = fig.add_subplot(111)\n",
    "ax.plot([1,n_estimators],[dt_stump_err]*2,'k-',label=u'决策树弱分类器 错误率')\n",
    "ax.plot([1,n_estimators],[dt_err]*2,'k--',label=u'决策树模型 错误率')\n",
    "ada_err = np.zeros((n_estimators,))\n",
    "for i,pred_y in enumerate(ada.staged_predict(test_x)):\n",
    "    ada_err[i]=zero_one_loss(pred_y,test_y)\n",
    "ax.plot(np.arange(n_estimators)+1,ada_err,label='AdaBoost Test 错误率',color='orange')\n",
    "ax.set_xlabel('迭代次数')\n",
    "ax.set_ylabel('错误率')\n",
    "leg=ax.legend(loc='upper right',fancybox=True)\n",
    "plt.show()"
   ]
  },
  {
   "cell_type": "code",
   "execution_count": null,
   "metadata": {},
   "outputs": [],
   "source": []
  }
 ],
 "metadata": {
  "kernelspec": {
   "display_name": "Python 2",
   "language": "python",
   "name": "python2"
  },
  "language_info": {
   "codemirror_mode": {
    "name": "ipython",
    "version": 2
   },
   "file_extension": ".py",
   "mimetype": "text/x-python",
   "name": "python",
   "nbconvert_exporter": "python",
   "pygments_lexer": "ipython2",
   "version": "2.7.6"
  }
 },
 "nbformat": 4,
 "nbformat_minor": 0
}
